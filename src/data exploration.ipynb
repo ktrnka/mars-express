{
 "cells": [
  {
   "cell_type": "code",
   "execution_count": 6,
   "metadata": {
    "collapsed": false
   },
   "outputs": [],
   "source": [
    "%matplotlib inline\n",
    "import pandas\n",
    "import os\n",
    "import collections\n",
    "import numpy\n",
    "\n",
    "from train_test import find_files, parse_dates, load_series, load_data, separate_output\n",
    "\n",
    "path = \"../data/v2/train_set/\"\n",
    "power_data = load_series(find_files(path, \"power\"), resample_interval=\"1H\")"
   ]
  },
  {
   "cell_type": "code",
   "execution_count": 7,
   "metadata": {
    "collapsed": false
   },
   "outputs": [],
   "source": [
    "pandas.set_option(\"display.max_rows\", 500)\n",
    "saaf_data = load_series(find_files(path, \"saaf\"))\n",
    "evtf_data = load_series(find_files(path, \"evtf\"))\n",
    "dmop_data = load_series(find_files(path, \"dmop\"))\n",
    "ftl_data = load_series(find_files(path, \"ftl\"))"
   ]
  },
  {
   "cell_type": "code",
   "execution_count": 12,
   "metadata": {
    "collapsed": false
   },
   "outputs": [
    {
     "data": {
      "text/plain": [
       "['AAAF56A1',\n",
       " 'ACFE91A',\n",
       " 'PSF28A1',\n",
       " 'ACFE03A',\n",
       " 'PSF38A1',\n",
       " 'AAAF20E1',\n",
       " 'VVV02A0',\n",
       " 'VVV03B0',\n",
       " 'AAAF20C1',\n",
       " 'MMMF10A0',\n",
       " 'MAPO',\n",
       " 'ACFE05A',\n",
       " 'MPER',\n",
       " 'AAAF23G1',\n",
       " 'AAAF57A1',\n",
       " 'AAAF60A1',\n",
       " 'MMMF18A0',\n",
       " 'MMMF19A0',\n",
       " 'PSF32A1',\n",
       " 'PSF50A2',\n",
       " 'ACFM07A',\n",
       " 'MOCE',\n",
       " 'ACFM06A',\n",
       " 'MOCS',\n",
       " 'AAAF93A1',\n",
       " 'AAAF59A1',\n",
       " 'PENS',\n",
       " 'PENE',\n",
       " 'PSF12H1',\n",
       " 'SSSF06A0',\n",
       " 'SSSF01A0',\n",
       " 'MMMF23A0',\n",
       " 'MMMF24A0',\n",
       " 'ACFM01A',\n",
       " 'ACFM02A',\n",
       " 'TTTF030A',\n",
       " 'TTTF030B',\n",
       " 'TTTF310B',\n",
       " 'TTTF310A',\n",
       " 'MMMF05A0',\n",
       " 'MMMF01A0',\n",
       " 'MMMF06A0',\n",
       " 'AAAF84A1',\n",
       " 'AAAF85A1',\n",
       " 'MMMF04A0',\n",
       " 'MMMF12A0',\n",
       " 'MMMF11A0',\n",
       " 'MMMF40C0',\n",
       " 'MMMF20A0',\n",
       " 'PSF60A0',\n",
       " 'PSF60B0',\n",
       " 'AAAF40B0',\n",
       " 'AAAF40C0',\n",
       " 'PSF30C2',\n",
       " 'SSSF53A0',\n",
       " 'PSF30A1',\n",
       " 'PSF03A3',\n",
       " 'PSF33A1',\n",
       " 'PSF13A3',\n",
       " 'PSF82A1',\n",
       " 'PSF30B2',\n",
       " 'PSF89A1',\n",
       " 'PSF31A1',\n",
       " 'TTTF301F',\n",
       " 'PSF14A2',\n",
       " 'PSF02A1',\n",
       " 'PSF40A1',\n",
       " 'PSF31B1',\n",
       " 'AAAF20D1',\n",
       " 'PSF37A1',\n",
       " 'AAAF18D1',\n",
       " 'AAAF19D1',\n",
       " 'MMMF40A0',\n",
       " 'PSF23B1',\n",
       " 'PSF01A2',\n",
       " 'SSSF01P0',\n",
       " 'SSSF06P0',\n",
       " 'AAAF23I1',\n",
       " 'TTTF301E',\n",
       " 'SEQ4200',\n",
       " 'PSF06A2',\n",
       " 'HHHF04A3',\n",
       " 'OOOF68A0',\n",
       " 'HHHF03A2',\n",
       " 'HHHF13A1',\n",
       " 'HHHF50A2',\n",
       " 'HHHF05A2',\n",
       " 'AAAF02A1',\n",
       " 'HHHF11A1',\n",
       " 'SSSF56A0',\n",
       " 'SSSF55A0',\n",
       " 'SXX307A',\n",
       " 'SXX303A',\n",
       " 'AAAF03A1',\n",
       " 'SXX382C',\n",
       " 'ACFE70A',\n",
       " 'MMMF52D2',\n",
       " 'MMMF52D3',\n",
       " 'MMMF51A0',\n",
       " 'MMMF52D4',\n",
       " 'MMMF52D1',\n",
       " 'HHHF02A1',\n",
       " 'MMMF52A0',\n",
       " 'OOOF77A0',\n",
       " 'TTT305O',\n",
       " 'XXX305B',\n",
       " 'XXX301B',\n",
       " 'AAAF40E0',\n",
       " 'AAAF40F0',\n",
       " 'PWF099P',\n",
       " 'AAAF23B2',\n",
       " 'TTT305C',\n",
       " 'OOOF62A0',\n",
       " 'XXX380A']"
      ]
     },
     "execution_count": 12,
     "metadata": {},
     "output_type": "execute_result"
    }
   ],
   "source": [
    "from train_test import get_dmop_subsystem\n",
    "\n",
    "vc = get_dmop_subsystem(dmop_data).value_counts()\n",
    "\n",
    "list(vc[vc > 1000].index)"
   ]
  }
 ],
 "metadata": {
  "kernelspec": {
   "display_name": "Python 2",
   "language": "python",
   "name": "python2"
  },
  "language_info": {
   "codemirror_mode": {
    "name": "ipython",
    "version": 2
   },
   "file_extension": ".py",
   "mimetype": "text/x-python",
   "name": "python",
   "nbconvert_exporter": "python",
   "pygments_lexer": "ipython2",
   "version": "2.7.10"
  }
 },
 "nbformat": 4,
 "nbformat_minor": 0
}
