{
 "cells": [
  {
   "cell_type": "code",
   "execution_count": 1,
   "metadata": {
    "collapsed": false
   },
   "outputs": [
    {
     "name": "stderr",
     "output_type": "stream",
     "text": [
      "Using Theano backend.\n"
     ]
    }
   ],
   "source": [
    "%matplotlib inline\n",
    "import pandas\n",
    "import os\n",
    "import collections\n",
    "import numpy\n",
    "\n",
    "pandas.set_option(\"display.max_rows\", 500)\n",
    "\n",
    "\n",
    "from train_test import find_files, parse_dates, load_series, load_data, separate_output\n",
    "\n",
    "path = \"../data/v2/train_set/\"\n",
    "power_data = load_series(find_files(path, \"power\"), resample_interval=\"1H\")\n",
    "\n",
    "col_weights = power_data.mean(axis=0) + power_data.std(axis=0)\n",
    "col_weights.sort_values(ascending=False, inplace=True)"
   ]
  },
  {
   "cell_type": "code",
   "execution_count": 2,
   "metadata": {
    "collapsed": false
   },
   "outputs": [],
   "source": [
    "saaf_data = load_series(find_files(path, \"saaf\"))\n",
    "evtf_data = load_series(find_files(path, \"evtf\"))\n",
    "dmop_data = load_series(find_files(path, \"dmop\"))\n",
    "ftl_data = load_series(find_files(path, \"ftl\"))\n",
    "lt_data = load_series(find_files(path, \"ltdata\"))"
   ]
  },
  {
   "cell_type": "code",
   "execution_count": 55,
   "metadata": {
    "collapsed": false
   },
   "outputs": [
    {
     "data": {
      "text/plain": [
       "<matplotlib.axes._subplots.AxesSubplot at 0x12e0f3850>"
      ]
     },
     "execution_count": 55,
     "metadata": {},
     "output_type": "execute_result"
    },
    {
     "data": {
      "image/png": "[encoded data removed]",
      "text/plain": [
       "<matplotlib.figure.Figure at 0x124c983d0>"
      ]
     },
     "metadata": {},
     "output_type": "display_data"
    }
   ],
   "source": [
    "earth_evtf = evtf_data[evtf_data.description.str.contains(\"RTLT\")]\n",
    "signals = earth_evtf.description.str.contains(\"AOS\").astype(\"int\") - earth_evtf.description.str.contains(\"LOS\").astype(int)\n",
    "signals_sum = signals.cumsum()\n",
    "\n",
    "signals_mins = signals_sum.rolling(100, min_periods=1).min()\n",
    "signals_max = signals_sum.rolling(100, min_periods=1).max().astype(float)\n",
    "signals_sum = (signals_sum - signals_mins) / (signals_max - signals_mins)\n",
    "\n",
    "signals_sum[\"2010-10-02\"].plot()"
   ]
  },
  {
   "cell_type": "code",
   "execution_count": 3,
   "metadata": {
    "collapsed": false
   },
   "outputs": [
    {
     "data": {
      "text/plain": [
       "BLK_AOS_00    2064\n",
       "BLK_AOS_05    2064\n",
       "BLK_AOS_10    2015\n",
       "BLK_LOS_00    2063\n",
       "BLK_LOS_05    2063\n",
       "BLK_LOS_10    2015\n",
       "CAN_AOS_05    2063\n",
       "CAN_AOS_07     490\n",
       "CAN_AOS_08     727\n",
       "CAN_AOS_09     387\n",
       "CAN_AOS_10    2302\n",
       "CAN_AOS_11     220\n",
       "CAN_LOS_05    2064\n",
       "CAN_LOS_06    2064\n",
       "CAN_LOS_10    2064\n",
       "CEB_AOS_02     698\n",
       "CEB_AOS_03     914\n",
       "CEB_AOS_04     452\n",
       "CEB_AOS_05    2064\n",
       "CEB_AOS_10    2064\n",
       "CEB_LOS_02     165\n",
       "CEB_LOS_03    1094\n",
       "CEB_LOS_04     495\n",
       "CEB_LOS_05    2372\n",
       "CEB_LOS_10    2063\n",
       "GDS_AOS_05    2063\n",
       "GDS_AOS_06    2063\n",
       "GDS_AOS_10    2063\n",
       "GDS_LOS_05    2064\n",
       "GDS_LOS_06    2064\n",
       "GDS_LOS_10    2064\n",
       "KLZ_AOS_00    2064\n",
       "KLZ_AOS_05    2064\n",
       "KLZ_AOS_10    1904\n",
       "KLZ_LOS_00    2063\n",
       "KLZ_LOS_05    2063\n",
       "KLZ_LOS_10    1903\n",
       "MAD_AOS_05    2064\n",
       "MAD_AOS_06    2064\n",
       "MAD_AOS_10    2064\n",
       "MAD_LOS_05    2063\n",
       "MAD_LOS_07     279\n",
       "MAD_LOS_08    1049\n",
       "MAD_LOS_09     735\n",
       "MAD_LOS_10    2063\n",
       "MLG_AOS_00    1254\n",
       "MLG_AOS_01     497\n",
       "MLG_AOS_02     313\n",
       "MLG_AOS_05    2064\n",
       "MLG_AOS_10    2064\n",
       "MLG_LOS_01     577\n",
       "MLG_LOS_02     880\n",
       "MLG_LOS_03     607\n",
       "MLG_LOS_05    2064\n",
       "MLG_LOS_10    2063\n",
       "MRB_AOS_00    4872\n",
       "MRB_AOS_10    3974\n",
       "MRB_LOS_00    4872\n",
       "MRB_LOS_10    3974\n",
       "MSL_AOS_02      53\n",
       "MSL_AOS_03     180\n",
       "MSL_AOS_04     452\n",
       "MSL_AOS_05     417\n",
       "MSL_AOS_06      87\n",
       "MSL_AOS_07      68\n",
       "MSL_AOS_08      59\n",
       "MSL_AOS_09      28\n",
       "MSL_AOS_10    1191\n",
       "MSL_LOS_02      13\n",
       "MSL_LOS_03     191\n",
       "MSL_LOS_04     532\n",
       "MSL_LOS_05     460\n",
       "MSL_LOS_06      64\n",
       "MSL_LOS_07      37\n",
       "MSL_LOS_08      34\n",
       "MSL_LOS_09      12\n",
       "MSL_LOS_10    1190\n",
       "NNO_AOS_00    1723\n",
       "NNO_AOS_01     341\n",
       "NNO_AOS_05    2064\n",
       "NNO_AOS_10    2064\n",
       "NNO_LOS_01     383\n",
       "NNO_LOS_02     289\n",
       "NNO_LOS_03     344\n",
       "NNO_LOS_04     225\n",
       "NNO_LOS_05    2724\n",
       "NNO_LOS_06     163\n",
       "NNO_LOS_10    2064\n",
       "Name: description, dtype: int64"
      ]
     },
     "execution_count": 3,
     "metadata": {},
     "output_type": "execute_result"
    }
   ],
   "source": [
    "evtf_data.description.str.extract(\"(\\\\w+_[AL]OS_\\\\d+)\", expand=False).value_counts().sort_index()"
   ]
  },
  {
   "cell_type": "code",
   "execution_count": 62,
   "metadata": {
    "collapsed": false
   },
   "outputs": [
    {
     "data": {
      "text/plain": [
       "<matplotlib.axes._subplots.AxesSubplot at 0x1199eab50>"
      ]
     },
     "execution_count": 62,
     "metadata": {},
     "output_type": "execute_result"
    },
    {
     "data": {
      "image/png": "[encoded data removed]",
      "text/plain": [
       "<matplotlib.figure.Figure at 0x13ae17e10>"
      ]
     },
     "metadata": {},
     "output_type": "display_data"
    }
   ],
   "source": [
    "new_norcia = evtf_data.description.str.startswith(\"NNO_AOS\").astype(int) - evtf_data.description.str.startswith(\"NNO_LOS\").astype(int)\n",
    "new_norcia = new_norcia.cumsum()\n",
    "new_norcia = new_norcia - new_norcia.min()\n",
    "\n",
    "new_norcia[\"2012-12\"].plot(figsize=(16, 9))"
   ]
  },
  {
   "cell_type": "code",
   "execution_count": 4,
   "metadata": {
    "collapsed": false
   },
   "outputs": [
    {
     "name": "stdout",
     "output_type": "stream",
     "text": [
      "BLK_AOS_00 0 days 23:58:11.862821  +/-  0 days 00:01:38.156307\n",
      "BLK_AOS_05 0 days 23:58:11.879301  +/-  0 days 00:01:40.045326\n",
      "BLK_AOS_10 1 days 00:33:11.374379  +/-  0 days 17:51:41.371002\n",
      "BLK_LOS_00 0 days 23:58:10.407856  +/-  0 days 00:01:49.813175\n",
      "BLK_LOS_05 0 days 23:58:10.388457  +/-  0 days 00:01:52.100425\n",
      "BLK_LOS_10 1 days 00:32:26.917576  +/-  0 days 17:49:17.045591\n",
      "CAN_AOS_05 0 days 23:58:10.781280  +/-  0 days 00:01:25.347576\n",
      "CAN_AOS_10 0 days 21:28:47.936983  +/-  0 days 07:18:23.471992\n",
      "CAN_LOS_05 0 days 23:58:11.443044  +/-  0 days 00:01:18.500752\n",
      "CAN_LOS_06 0 days 23:58:11.444013  +/-  0 days 00:01:18.547270\n",
      "CAN_LOS_10 0 days 23:58:11.448860  +/-  0 days 00:01:18.834761\n",
      "CEB_AOS_05 0 days 23:58:11.530780  +/-  0 days 00:01:20.930709\n",
      "CEB_AOS_10 0 days 23:58:11.541444  +/-  0 days 00:01:21.508237\n",
      "CEB_LOS_03 1 days 16:18:43.240622  +/-  7 days 15:25:03.129848\n",
      "CEB_LOS_05 0 days 20:50:44.944327  +/-  0 days 08:03:47.054932\n",
      "CEB_LOS_10 0 days 23:58:10.696411  +/-  0 days 00:01:29.937910\n",
      "GDS_AOS_05 0 days 23:58:11.526188  +/-  0 days 00:01:18.337406\n",
      "GDS_AOS_06 0 days 23:58:11.526673  +/-  0 days 00:01:18.380397\n",
      "GDS_AOS_10 0 days 23:58:11.532977  +/-  0 days 00:01:18.647622\n",
      "GDS_LOS_05 0 days 23:58:10.741638  +/-  0 days 00:01:25.453639\n",
      "GDS_LOS_06 0 days 23:58:10.740184  +/-  0 days 00:01:25.527554\n",
      "GDS_LOS_10 0 days 23:58:10.732913  +/-  0 days 00:01:25.959122\n",
      "KLZ_AOS_00 0 days 23:58:11.903538  +/-  0 days 00:01:41.228045\n",
      "KLZ_AOS_05 0 days 23:58:11.921473  +/-  0 days 00:01:43.864109\n",
      "KLZ_AOS_10 1 days 01:59:07.203363  +/-  2 days 02:50:38.710216\n",
      "KLZ_LOS_00 0 days 23:58:10.368089  +/-  0 days 00:01:53.187069\n",
      "KLZ_LOS_05 0 days 23:58:10.346265  +/-  0 days 00:01:56.267578\n",
      "KLZ_LOS_10 1 days 01:59:09.207676  +/-  2 days 02:51:42.695543\n",
      "MAD_AOS_05 0 days 23:58:11.530295  +/-  0 days 00:01:20.915223\n",
      "MAD_AOS_06 0 days 23:58:11.532234  +/-  0 days 00:01:20.992233\n",
      "MAD_AOS_10 0 days 23:58:11.540959  +/-  0 days 00:01:21.491754\n",
      "MAD_LOS_05 0 days 23:58:10.709020  +/-  0 days 00:01:29.082686\n",
      "MAD_LOS_08 1 days 21:52:56.739503  +/-  7 days 14:18:01.861608\n",
      "MAD_LOS_10 0 days 23:58:10.697381  +/-  0 days 00:01:29.912381\n",
      "MLG_AOS_00 1 days 15:27:53.249002  +/-  9 days 13:42:42.135943\n",
      "MLG_AOS_05 0 days 23:58:10.714008  +/-  0 days 00:01:25.626309\n",
      "MLG_AOS_10 0 days 23:58:10.709161  +/-  0 days 00:01:26.001904\n",
      "MLG_LOS_05 0 days 23:58:11.504120  +/-  0 days 00:01:18.591436\n",
      "MLG_LOS_10 0 days 23:58:11.481571  +/-  0 days 00:01:18.950548\n",
      "MRB_AOS_00 0 days 10:09:11.659002  +/-  0 days 04:11:31.279413\n",
      "MRB_AOS_10 0 days 12:26:53.259501  +/-  0 days 05:38:46.347815\n",
      "MRB_LOS_00 0 days 10:09:13.888318  +/-  0 days 04:11:01.619247\n",
      "MRB_LOS_10 0 days 12:26:55.481500  +/-  0 days 05:37:48.137286\n",
      "MSL_AOS_10 0 days 12:24:51.609243  +/-  0 days 05:38:51.904486\n",
      "MSL_LOS_10 0 days 12:24:57.814129  +/-  0 days 05:39:57.068423\n",
      "NNO_AOS_00 1 days 04:42:58.601626  +/-  4 days 17:44:35.259878\n",
      "NNO_AOS_05 0 days 23:58:10.815317  +/-  0 days 00:01:22.932727\n",
      "NNO_AOS_10 0 days 23:58:10.811439  +/-  0 days 00:01:23.165126\n",
      "NNO_LOS_05 0 days 18:09:36.096217  +/-  0 days 10:15:36.406594\n",
      "NNO_LOS_10 0 days 23:58:11.380029  +/-  0 days 00:01:17.248544\n"
     ]
    }
   ],
   "source": [
    "counts = evtf_data.description.str.extract(\"(\\\\w+_[AL]OS_\\\\d+)\", expand=False).value_counts()\n",
    "\n",
    "for desc, count in counts.sort_index().iteritems():\n",
    "    if count > 1000:\n",
    "        aos_dates = pandas.Series(evtf_data[evtf_data.description.str.contains(desc)].index)\n",
    "        print desc, aos_dates.diff().mean(), \" +/- \", aos_dates.diff().std()\n"
   ]
  },
  {
   "cell_type": "code",
   "execution_count": 5,
   "metadata": {
    "collapsed": false
   },
   "outputs": [
    {
     "data": {
      "text/plain": [
       "<matplotlib.axes._subplots.AxesSubplot at 0x113138fd0>"
      ]
     },
     "execution_count": 5,
     "metadata": {},
     "output_type": "execute_result"
    },
    {
     "data": {
      "image/png": "[encoded data removed]",
      "text/plain": [
       "<matplotlib.figure.Figure at 0x113138a10>"
      ]
     },
     "metadata": {},
     "output_type": "display_data"
    }
   ],
   "source": [
    "# for each power, find the previous MSL_AOS_10 event and assign that\n",
    "aos = evtf_data[evtf_data.description.str.contains(\"MRB_LOS_10\")].copy()\n",
    "aos[\"date\"] = aos.index\n",
    "# print aos.head(50)\n",
    "aos = aos.reindex(index=power_data.index, method=\"ffill\")\n",
    "aos_next = aos.reindex(index=power_data.index, method=\"bfill\")\n",
    "aos[\"date_next\"] = aos_next.date\n",
    "aos[\"delta\"] = (aos.index - aos.date).dt.total_seconds() / (aos.date_next - aos.date).dt.total_seconds()\n",
    "\n",
    "aos.delta.plot()"
   ]
  },
  {
   "cell_type": "code",
   "execution_count": 6,
   "metadata": {
    "collapsed": false
   },
   "outputs": [
    {
     "data": {
      "text/plain": [
       "AAAAF56A1    20035\n",
       "AACFE91A     19493\n",
       "APSF28A1     18312\n",
       "AACFE03A     18227\n",
       "APSF38A1     15611\n",
       "AAAAF20E1    13440\n",
       "AVVV02A0     10073\n",
       "AVVV03B0      9774\n",
       "AAAAF20C1     9205\n",
       "AMMMF10A0     8938\n",
       "AACFE05A      8394\n",
       "AAAAF23G1     6450\n",
       "AAAAF57A1     5532\n",
       "AAAAF60A1     5530\n",
       "AMMMF18A0     5029\n",
       "AMMMF19A0     5004\n",
       "APSF32A1      4893\n",
       "APSF50A2      4854\n",
       "AACFM07A      4634\n",
       "AACFM06A      4600\n",
       "Name: subsystem, dtype: int64"
      ]
     },
     "execution_count": 6,
     "metadata": {},
     "output_type": "execute_result"
    }
   ],
   "source": [
    "dmop_data.subsystem.value_counts()[:20]"
   ]
  },
  {
   "cell_type": "code",
   "execution_count": 7,
   "metadata": {
    "collapsed": false
   },
   "outputs": [
    {
     "data": {
      "text/html": [
       "<div>\n",
       "<table border=\"1\" class=\"dataframe\">\n",
       "  <thead>\n",
       "    <tr style=\"text-align: right;\">\n",
       "      <th></th>\n",
       "      <th>sunmars_km</th>\n",
       "      <th>earthmars_km</th>\n",
       "      <th>sunmarsearthangle_deg</th>\n",
       "      <th>solarconstantmars</th>\n",
       "      <th>eclipseduration_min</th>\n",
       "      <th>occultationduration_min</th>\n",
       "    </tr>\n",
       "  </thead>\n",
       "  <tbody>\n",
       "    <tr>\n",
       "      <th>count</th>\n",
       "      <td>2.061000e+03</td>\n",
       "      <td>2.061000e+03</td>\n",
       "      <td>2061.000000</td>\n",
       "      <td>2061.000000</td>\n",
       "      <td>2061.000000</td>\n",
       "      <td>2061.000000</td>\n",
       "    </tr>\n",
       "    <tr>\n",
       "      <th>mean</th>\n",
       "      <td>2.289354e+08</td>\n",
       "      <td>2.715726e+08</td>\n",
       "      <td>22.552500</td>\n",
       "      <td>590.958510</td>\n",
       "      <td>16.454731</td>\n",
       "      <td>18.068260</td>\n",
       "    </tr>\n",
       "    <tr>\n",
       "      <th>std</th>\n",
       "      <td>1.502282e+07</td>\n",
       "      <td>8.800971e+07</td>\n",
       "      <td>11.954585</td>\n",
       "      <td>78.516293</td>\n",
       "      <td>18.362685</td>\n",
       "      <td>20.537767</td>\n",
       "    </tr>\n",
       "    <tr>\n",
       "      <th>min</th>\n",
       "      <td>2.066449e+08</td>\n",
       "      <td>9.242161e+07</td>\n",
       "      <td>0.280288</td>\n",
       "      <td>492.116468</td>\n",
       "      <td>0.000000</td>\n",
       "      <td>0.000000</td>\n",
       "    </tr>\n",
       "    <tr>\n",
       "      <th>25%</th>\n",
       "      <td>2.139517e+08</td>\n",
       "      <td>2.012069e+08</td>\n",
       "      <td>12.117072</td>\n",
       "      <td>513.963102</td>\n",
       "      <td>0.000000</td>\n",
       "      <td>0.000000</td>\n",
       "    </tr>\n",
       "    <tr>\n",
       "      <th>50%</th>\n",
       "      <td>2.298804e+08</td>\n",
       "      <td>3.014157e+08</td>\n",
       "      <td>23.891058</td>\n",
       "      <td>578.492159</td>\n",
       "      <td>5.183333</td>\n",
       "      <td>11.100000</td>\n",
       "    </tr>\n",
       "    <tr>\n",
       "      <th>75%</th>\n",
       "      <td>2.438848e+08</td>\n",
       "      <td>3.493427e+08</td>\n",
       "      <td>33.886943</td>\n",
       "      <td>667.836542</td>\n",
       "      <td>34.516667</td>\n",
       "      <td>33.550000</td>\n",
       "    </tr>\n",
       "    <tr>\n",
       "      <th>max</th>\n",
       "      <td>2.492395e+08</td>\n",
       "      <td>3.744911e+08</td>\n",
       "      <td>39.859552</td>\n",
       "      <td>715.899348</td>\n",
       "      <td>55.450000</td>\n",
       "      <td>87.733333</td>\n",
       "    </tr>\n",
       "  </tbody>\n",
       "</table>\n",
       "</div>"
      ],
      "text/plain": [
       "         sunmars_km  earthmars_km  sunmarsearthangle_deg  solarconstantmars  \\\n",
       "count  2.061000e+03  2.061000e+03            2061.000000        2061.000000   \n",
       "mean   2.289354e+08  2.715726e+08              22.552500         590.958510   \n",
       "std    1.502282e+07  8.800971e+07              11.954585          78.516293   \n",
       "min    2.066449e+08  9.242161e+07               0.280288         492.116468   \n",
       "25%    2.139517e+08  2.012069e+08              12.117072         513.963102   \n",
       "50%    2.298804e+08  3.014157e+08              23.891058         578.492159   \n",
       "75%    2.438848e+08  3.493427e+08              33.886943         667.836542   \n",
       "max    2.492395e+08  3.744911e+08              39.859552         715.899348   \n",
       "\n",
       "       eclipseduration_min  occultationduration_min  \n",
       "count          2061.000000              2061.000000  \n",
       "mean             16.454731                18.068260  \n",
       "std              18.362685                20.537767  \n",
       "min               0.000000                 0.000000  \n",
       "25%               0.000000                 0.000000  \n",
       "50%               5.183333                11.100000  \n",
       "75%              34.516667                33.550000  \n",
       "max              55.450000                87.733333  "
      ]
     },
     "execution_count": 7,
     "metadata": {},
     "output_type": "execute_result"
    }
   ],
   "source": [
    "lt_data.describe()"
   ]
  },
  {
   "cell_type": "code",
   "execution_count": 8,
   "metadata": {
    "collapsed": false
   },
   "outputs": [
    {
     "data": {
      "text/html": [
       "<div>\n",
       "<table border=\"1\" class=\"dataframe\">\n",
       "  <thead>\n",
       "    <tr style=\"text-align: right;\">\n",
       "      <th></th>\n",
       "      <th>sunmars_km</th>\n",
       "      <th>earthmars_km</th>\n",
       "      <th>sunmarsearthangle_deg</th>\n",
       "      <th>solarconstantmars</th>\n",
       "      <th>eclipseduration_min</th>\n",
       "      <th>occultationduration_min</th>\n",
       "      <th>earthmars_latency_sec</th>\n",
       "    </tr>\n",
       "  </thead>\n",
       "  <tbody>\n",
       "    <tr>\n",
       "      <th>count</th>\n",
       "      <td>2.061000e+03</td>\n",
       "      <td>2.061000e+03</td>\n",
       "      <td>2061.000000</td>\n",
       "      <td>2061.000000</td>\n",
       "      <td>2061.000000</td>\n",
       "      <td>2061.000000</td>\n",
       "      <td>2061</td>\n",
       "    </tr>\n",
       "    <tr>\n",
       "      <th>mean</th>\n",
       "      <td>2.289354e+08</td>\n",
       "      <td>2.715726e+08</td>\n",
       "      <td>22.552500</td>\n",
       "      <td>590.958510</td>\n",
       "      <td>16.454731</td>\n",
       "      <td>18.068260</td>\n",
       "      <td>0 days 00:15:05.845854</td>\n",
       "    </tr>\n",
       "    <tr>\n",
       "      <th>std</th>\n",
       "      <td>1.502282e+07</td>\n",
       "      <td>8.800971e+07</td>\n",
       "      <td>11.954585</td>\n",
       "      <td>78.516293</td>\n",
       "      <td>18.362685</td>\n",
       "      <td>20.537767</td>\n",
       "      <td>0 days 00:04:53.561391</td>\n",
       "    </tr>\n",
       "    <tr>\n",
       "      <th>min</th>\n",
       "      <td>2.066449e+08</td>\n",
       "      <td>9.242161e+07</td>\n",
       "      <td>0.280288</td>\n",
       "      <td>492.116468</td>\n",
       "      <td>0.000000</td>\n",
       "      <td>0.000000</td>\n",
       "      <td>0 days 00:05:08.277543</td>\n",
       "    </tr>\n",
       "    <tr>\n",
       "      <th>25%</th>\n",
       "      <td>2.139517e+08</td>\n",
       "      <td>2.012069e+08</td>\n",
       "      <td>12.117072</td>\n",
       "      <td>513.963102</td>\n",
       "      <td>0.000000</td>\n",
       "      <td>0.000000</td>\n",
       "      <td>0 days 00:11:11.136951</td>\n",
       "    </tr>\n",
       "    <tr>\n",
       "      <th>50%</th>\n",
       "      <td>2.298804e+08</td>\n",
       "      <td>3.014157e+08</td>\n",
       "      <td>23.891058</td>\n",
       "      <td>578.492159</td>\n",
       "      <td>5.183333</td>\n",
       "      <td>11.100000</td>\n",
       "      <td>0 days 00:16:45.389367</td>\n",
       "    </tr>\n",
       "    <tr>\n",
       "      <th>75%</th>\n",
       "      <td>2.438848e+08</td>\n",
       "      <td>3.493427e+08</td>\n",
       "      <td>33.886943</td>\n",
       "      <td>667.836542</td>\n",
       "      <td>34.516667</td>\n",
       "      <td>33.550000</td>\n",
       "      <td>0 days 00:19:25.252415</td>\n",
       "    </tr>\n",
       "    <tr>\n",
       "      <th>max</th>\n",
       "      <td>2.492395e+08</td>\n",
       "      <td>3.744911e+08</td>\n",
       "      <td>39.859552</td>\n",
       "      <td>715.899348</td>\n",
       "      <td>55.450000</td>\n",
       "      <td>87.733333</td>\n",
       "      <td>0 days 00:20:49.136544</td>\n",
       "    </tr>\n",
       "  </tbody>\n",
       "</table>\n",
       "</div>"
      ],
      "text/plain": [
       "         sunmars_km  earthmars_km  sunmarsearthangle_deg  solarconstantmars  \\\n",
       "count  2.061000e+03  2.061000e+03            2061.000000        2061.000000   \n",
       "mean   2.289354e+08  2.715726e+08              22.552500         590.958510   \n",
       "std    1.502282e+07  8.800971e+07              11.954585          78.516293   \n",
       "min    2.066449e+08  9.242161e+07               0.280288         492.116468   \n",
       "25%    2.139517e+08  2.012069e+08              12.117072         513.963102   \n",
       "50%    2.298804e+08  3.014157e+08              23.891058         578.492159   \n",
       "75%    2.438848e+08  3.493427e+08              33.886943         667.836542   \n",
       "max    2.492395e+08  3.744911e+08              39.859552         715.899348   \n",
       "\n",
       "       eclipseduration_min  occultationduration_min   earthmars_latency_sec  \n",
       "count          2061.000000              2061.000000                    2061  \n",
       "mean             16.454731                18.068260  0 days 00:15:05.845854  \n",
       "std              18.362685                20.537767  0 days 00:04:53.561391  \n",
       "min               0.000000                 0.000000  0 days 00:05:08.277543  \n",
       "25%               0.000000                 0.000000  0 days 00:11:11.136951  \n",
       "50%               5.183333                11.100000  0 days 00:16:45.389367  \n",
       "75%              34.516667                33.550000  0 days 00:19:25.252415  \n",
       "max              55.450000                87.733333  0 days 00:20:49.136544  "
      ]
     },
     "execution_count": 8,
     "metadata": {},
     "output_type": "execute_result"
    }
   ],
   "source": [
    "lt_data[\"earthmars_latency_sec\"] = pandas.to_timedelta(lt_data.earthmars_km / 2.998e+5, unit=\"s\")\n",
    "lt_data.describe()"
   ]
  },
  {
   "cell_type": "code",
   "execution_count": 9,
   "metadata": {
    "collapsed": false
   },
   "outputs": [
    {
     "name": "stdout",
     "output_type": "stream",
     "text": [
      "                     subsystem  earthmars_latency\n",
      "ut_ms                                            \n",
      "2008-08-22 00:00:11   AXXX301A    00:19:46.644577\n",
      "2008-08-22 00:28:29  AAAAF20C1    00:19:46.644577\n",
      "2008-08-22 00:28:34  AAAAF57A1    00:19:46.644577\n",
      "2008-08-22 00:28:39  AAAAF23G1    00:19:46.644577\n",
      "2008-08-22 00:28:44  AAAAF60A1    00:19:46.644577\n",
      "2008-08-22 00:40:15   AXXX305A    00:19:46.644577\n",
      "2008-08-22 00:47:15   AXXX380A    00:19:46.644577\n",
      "2008-08-22 00:57:15   ASEQ4200    00:19:46.644577\n",
      "2008-08-22 01:09:41  ATTTF301E    00:19:46.644577\n",
      "2008-08-22 01:37:41  ATTTF310A    00:19:46.644577\n",
      "2008-08-22 01:39:41   APSF01A2    00:19:46.644577\n",
      "2008-08-22 01:41:41   APSF02A1    00:19:46.644577\n",
      "2008-08-22 01:41:46   APSF89A1    00:19:46.644577\n",
      "2008-08-22 01:41:51   APSF40A1    00:19:46.644577\n",
      "2008-08-22 01:41:56   APSF31A1    00:19:46.644577\n",
      "2008-08-22 01:44:41   APSF23B1    00:19:46.644577\n",
      "2008-08-22 01:44:46   APSF33A1    00:19:46.644577\n",
      "2008-08-22 01:44:51   APSF28A1    00:19:46.644577\n",
      "2008-08-22 01:44:56   APSF28A1    00:19:46.644577\n",
      "2008-08-22 01:45:01   APSF28A1    00:19:46.644577\n",
      "                            subsystem  earthmars_latency\n",
      "2008-08-22 00:19:57.644577   AXXX301A    00:19:46.644577\n",
      "2008-08-22 00:48:15.644577  AAAAF20C1    00:19:46.644577\n",
      "2008-08-22 00:48:20.644577  AAAAF57A1    00:19:46.644577\n",
      "2008-08-22 00:48:25.644577  AAAAF23G1    00:19:46.644577\n",
      "2008-08-22 00:48:30.644577  AAAAF60A1    00:19:46.644577\n",
      "2008-08-22 01:00:01.644577   AXXX305A    00:19:46.644577\n",
      "2008-08-22 01:07:01.644577   AXXX380A    00:19:46.644577\n",
      "2008-08-22 01:17:01.644577   ASEQ4200    00:19:46.644577\n",
      "2008-08-22 01:29:27.644577  ATTTF301E    00:19:46.644577\n",
      "2008-08-22 01:57:27.644577  ATTTF310A    00:19:46.644577\n",
      "2008-08-22 01:59:27.644577   APSF01A2    00:19:46.644577\n",
      "2008-08-22 02:01:27.644577   APSF02A1    00:19:46.644577\n",
      "2008-08-22 02:01:32.644577   APSF89A1    00:19:46.644577\n",
      "2008-08-22 02:01:37.644577   APSF40A1    00:19:46.644577\n",
      "2008-08-22 02:01:42.644577   APSF31A1    00:19:46.644577\n",
      "2008-08-22 02:04:27.644577   APSF23B1    00:19:46.644577\n",
      "2008-08-22 02:04:32.644577   APSF33A1    00:19:46.644577\n",
      "2008-08-22 02:04:37.644577   APSF28A1    00:19:46.644577\n",
      "2008-08-22 02:04:42.644577   APSF28A1    00:19:46.644577\n",
      "2008-08-22 02:04:47.644577   APSF28A1    00:19:46.644577\n"
     ]
    }
   ],
   "source": [
    "dmop_offset = lt_data[\"earthmars_latency_sec\"].reindex(index=dmop_data.index, method=\"nearest\")\n",
    "dmop_data[\"earthmars_latency\"] = dmop_offset\n",
    "\n",
    "print dmop_data.head(20)\n",
    "\n",
    "dmop_data.index = dmop_data.index + dmop_data[\"earthmars_latency\"]\n",
    "print dmop_data.head(20)"
   ]
  },
  {
   "cell_type": "code",
   "execution_count": 10,
   "metadata": {
    "collapsed": false
   },
   "outputs": [
    {
     "data": {
      "text/plain": [
       "<matplotlib.axes._subplots.AxesSubplot at 0x1155508d0>"
      ]
     },
     "execution_count": 10,
     "metadata": {},
     "output_type": "execute_result"
    },
    {
     "data": {
      "image/png": "[encoded data removed]",
      "text/plain": [
       "<matplotlib.figure.Figure at 0x10cf46210>"
      ]
     },
     "metadata": {},
     "output_type": "display_data"
    }
   ],
   "source": [
    "saaf_data.sx[\"2014-01-02\"].plot(figsize=(16, 9))"
   ]
  },
  {
   "cell_type": "code",
   "execution_count": 11,
   "metadata": {
    "collapsed": false
   },
   "outputs": [
    {
     "name": "stdout",
     "output_type": "stream",
     "text": [
      "('Mean delta for ', 'MAR_PENUMBRA', 32.44261226010813)\n",
      "('Mean delta for ', 'MAR_UMBRA', 32.18780350084706)\n",
      "('Mean delta for ', 'PHO_PENUMBRA', 0.7804597701149427)\n",
      "('Mean delta for ', 'DEI_PENUMBRA', 2.2590909090909084)\n",
      "('Mean delta for ', 'PHO_UMBRA', 0.2592592592592593)\n",
      "('Mean delta for ', 'DEI_UMBRA', 0.7333333333333333)\n"
     ]
    }
   ],
   "source": [
    "event_counts = evtf_data[evtf_data.description.str.contains(\"UMBRA\")].description.value_counts()\n",
    "\n",
    "from train_test import get_evtf_ranges\n",
    "\n",
    "for event_name in event_counts.index[event_counts.index.str.contains(\"START\")]:\n",
    "    event_name, _ = event_name.rsplit(\"_\", 1)\n",
    "    \n",
    "    ranges = get_evtf_ranges(evtf_data, event_name)\n",
    "    \n",
    "    print(\"Mean delta for \", event_name, sum((e.end - e.start).total_seconds() / 60. for e in ranges) / len(ranges))\n"
   ]
  }
 ],
 "metadata": {
  "kernelspec": {
   "display_name": "Python 2",
   "language": "python",
   "name": "python2"
  },
  "language_info": {
   "codemirror_mode": {
    "name": "ipython",
    "version": 2
   },
   "file_extension": ".py",
   "mimetype": "text/x-python",
   "name": "python",
   "nbconvert_exporter": "python",
   "pygments_lexer": "ipython2",
   "version": "2.7.10"
  }
 },
 "nbformat": 4,
 "nbformat_minor": 0
}
