{
 "cells": [
  {
   "cell_type": "code",
   "execution_count": 1,
   "metadata": {
    "collapsed": false
   },
   "outputs": [
    {
     "name": "stderr",
     "output_type": "stream",
     "text": [
      "Using Theano backend.\n"
     ]
    },
    {
     "name": "stdout",
     "output_type": "stream",
     "text": [
      "Reduced data from 49,464 rows to 49,125\n"
     ]
    }
   ],
   "source": [
    "%matplotlib inline\n",
    "import pandas\n",
    "import os\n",
    "import collections\n",
    "import numpy\n",
    "\n",
    "from train_test import find_files, parse_dates, load_series, load_data, separate_output\n",
    "\n",
    "data = load_data(\"../data/v2/train_set/\", resample_interval=\"1H\", filter_null_power=True, derived_features=False)\n",
    "X_train, Y_train = separate_output(data)"
   ]
  },
  {
   "cell_type": "code",
   "execution_count": 2,
   "metadata": {
    "collapsed": false
   },
   "outputs": [
    {
     "data": {
      "text/plain": [
       "'DataFrame'"
      ]
     },
     "execution_count": 2,
     "metadata": {},
     "output_type": "execute_result"
    }
   ],
   "source": [
    "type(data).__name__"
   ]
  },
  {
   "cell_type": "code",
   "execution_count": null,
   "metadata": {
    "collapsed": true
   },
   "outputs": [],
   "source": []
  },
  {
   "cell_type": "code",
   "execution_count": 3,
   "metadata": {
    "collapsed": false
   },
   "outputs": [
    {
     "name": "stdout",
     "output_type": "stream",
     "text": [
      "<class 'pandas.core.frame.DataFrame'>\n",
      "DatetimeIndex: 49125 entries, 2008-08-22 00:00:00 to 2014-04-13 23:00:00\n",
      "Data columns (total 89 columns):\n",
      "NPWD2372                                  49125 non-null float64\n",
      "NPWD2401                                  49125 non-null float64\n",
      "NPWD2402                                  49125 non-null float64\n",
      "NPWD2451                                  49125 non-null float64\n",
      "NPWD2471                                  49125 non-null float64\n",
      "NPWD2472                                  49125 non-null float64\n",
      "NPWD2481                                  49125 non-null float64\n",
      "NPWD2482                                  49125 non-null float64\n",
      "NPWD2491                                  49125 non-null float64\n",
      "NPWD2501                                  49125 non-null float64\n",
      "NPWD2531                                  49125 non-null float64\n",
      "NPWD2532                                  49125 non-null float64\n",
      "NPWD2551                                  49125 non-null float64\n",
      "NPWD2552                                  49125 non-null float64\n",
      "NPWD2561                                  49125 non-null float64\n",
      "NPWD2562                                  49125 non-null float64\n",
      "NPWD2691                                  49125 non-null float64\n",
      "NPWD2692                                  49125 non-null float64\n",
      "NPWD2721                                  49125 non-null float64\n",
      "NPWD2722                                  49125 non-null float64\n",
      "NPWD2742                                  49125 non-null float64\n",
      "NPWD2771                                  49125 non-null float64\n",
      "NPWD2791                                  49125 non-null float64\n",
      "NPWD2792                                  49125 non-null float64\n",
      "NPWD2801                                  49125 non-null float64\n",
      "NPWD2802                                  49125 non-null float64\n",
      "NPWD2821                                  49125 non-null float64\n",
      "NPWD2851                                  49125 non-null float64\n",
      "NPWD2852                                  49125 non-null float64\n",
      "NPWD2871                                  49125 non-null float64\n",
      "NPWD2872                                  49125 non-null float64\n",
      "NPWD2881                                  49125 non-null float64\n",
      "NPWD2882                                  49125 non-null float64\n",
      "sa                                        49125 non-null float64\n",
      "sx                                        49125 non-null float64\n",
      "sy                                        49125 non-null float64\n",
      "sz                                        49125 non-null float64\n",
      "sunmars_km                                49125 non-null float64\n",
      "earthmars_km                              49125 non-null float64\n",
      "sunmarsearthangle_deg                     49125 non-null float64\n",
      "solarconstantmars                         49125 non-null float64\n",
      "eclipseduration_min                       49125 non-null float64\n",
      "occultationduration_min                   49125 non-null float64\n",
      "eclipseduration_min_rolling_2d            49125 non-null int64\n",
      "eclipseduration_min_rolling_5d            49125 non-null int64\n",
      "DMOP_event_counts                         49125 non-null int64\n",
      "DMOP_event_counts_rolling_2h              49125 non-null int64\n",
      "DMOP_event_counts_rolling_5h              49125 non-null int64\n",
      "EVTF_event_counts                         49125 non-null int64\n",
      "EVTF_altitude                             49125 non-null float64\n",
      "EVTF_event_counts_rolling_2h              49125 non-null int64\n",
      "EVTF_event_counts_rolling_5h              49125 non-null int64\n",
      "flagcomms                                 49125 non-null int8\n",
      "flagcomms_rolling_1h                      49125 non-null float64\n",
      "flagcomms_rolling_2h                      49125 non-null float64\n",
      "FTL_SLEW                                  49125 non-null int8\n",
      "FTL_SLEW_rolling_1h                       49125 non-null float64\n",
      "FTL_SLEW_rolling_2h                       49125 non-null float64\n",
      "FTL_EARTH                                 49125 non-null int8\n",
      "FTL_EARTH_rolling_1h                      49125 non-null float64\n",
      "FTL_EARTH_rolling_2h                      49125 non-null float64\n",
      "FTL_INERTIAL                              49125 non-null int8\n",
      "FTL_INERTIAL_rolling_1h                   49125 non-null float64\n",
      "FTL_INERTIAL_rolling_2h                   49125 non-null float64\n",
      "FTL_D4PNPO                                49125 non-null int8\n",
      "FTL_D4PNPO_rolling_1h                     49125 non-null float64\n",
      "FTL_D4PNPO_rolling_2h                     49125 non-null float64\n",
      "FTL_MAINTENANCE                           49125 non-null int8\n",
      "FTL_MAINTENANCE_rolling_1h                49125 non-null float64\n",
      "FTL_MAINTENANCE_rolling_2h                49125 non-null float64\n",
      "FTL_NADIR                                 49125 non-null int8\n",
      "FTL_NADIR_rolling_1h                      49125 non-null float64\n",
      "FTL_NADIR_rolling_2h                      49125 non-null float64\n",
      "FTL_WARMUP                                49125 non-null int8\n",
      "FTL_WARMUP_rolling_1h                     49125 non-null float64\n",
      "FTL_WARMUP_rolling_2h                     49125 non-null float64\n",
      "FTL_ACROSS_TRACK                          49125 non-null int8\n",
      "FTL_ACROSS_TRACK_rolling_1h               49125 non-null float64\n",
      "FTL_ACROSS_TRACK_rolling_2h               49125 non-null float64\n",
      "FTL_RADIO_SCIENCE                         49125 non-null int8\n",
      "FTL_RADIO_SCIENCE_rolling_1h              49125 non-null float64\n",
      "FTL_RADIO_SCIENCE_rolling_2h              49125 non-null float64\n",
      "EVTF_IN_MAR_UMBRA                         49125 non-null int8\n",
      "EVTF_IN_MAR_UMBRA_rolling_1h              49125 non-null float64\n",
      "EVTF_IN_MRB_/_RANGE_06000KM               49125 non-null int8\n",
      "EVTF_IN_MRB_/_RANGE_06000KM_rolling_1h    49125 non-null float64\n",
      "EVTF_IN_MSL_/_RANGE_06000KM               49125 non-null int8\n",
      "EVTF_IN_MSL_/_RANGE_06000KM_rolling_1h    49125 non-null float64\n",
      "days_in_space                             49125 non-null int64\n",
      "dtypes: float64(67), int64(9), int8(13)\n",
      "memory usage: 29.5 MB\n"
     ]
    }
   ],
   "source": [
    "data.info()"
   ]
  },
  {
   "cell_type": "code",
   "execution_count": 4,
   "metadata": {
    "collapsed": false
   },
   "outputs": [
    {
     "name": "stderr",
     "output_type": "stream",
     "text": [
      "/Users/keith/code/mars-express/venv/lib/python2.7/site-packages/scipy/linalg/basic.py:884: RuntimeWarning: internal gelsd driver lwork query error, required iwork dimension not returned. This is likely the result of LAPACK bug 0038, fixed in LAPACK 3.2.2 (released July 21, 2010). Falling back to 'gelss' driver.\n",
      "  warnings.warn(mesg, RuntimeWarning)\n"
     ]
    }
   ],
   "source": [
    "import sklearn.cross_validation\n",
    "import sklearn.preprocessing\n",
    "import sklearn.linear_model\n",
    "import sklearn.dummy\n",
    "from operator import itemgetter\n",
    "from train_test import score_feature, mse_to_rms\n",
    "\n",
    "splits = sklearn.cross_validation.KFold(data.shape[0], 5, shuffle=True)\n",
    "\n",
    "# compute baseline\n",
    "baseline_model = sklearn.dummy.DummyRegressor(\"mean\")\n",
    "baseline_rms = mse_to_rms(sklearn.cross_validation.cross_val_score(baseline_model, X_train, Y_train, scoring=\"mean_squared_error\", cv=splits)).mean()\n",
    "\n",
    "# compute score for each feature\n",
    "feature_scores = dict()\n",
    "for f in X_train.columns:\n",
    "    feature_scores[f] = score_feature(X_train[f], Y_train, splits)"
   ]
  },
  {
   "cell_type": "code",
   "execution_count": 5,
   "metadata": {
    "collapsed": false
   },
   "outputs": [
    {
     "name": "stdout",
     "output_type": "stream",
     "text": [
      "eclipseduration_min           : 0.0056 over baseline\n",
      "eclipseduration_min_rolling_2d: 0.0055 over baseline\n",
      "eclipseduration_min_rolling_5d: 0.0055 over baseline\n",
      "days_in_space                 : 0.0042 over baseline\n",
      "EVTF_event_counts             : 0.0034 over baseline\n",
      "sa                            : 0.0028 over baseline\n",
      "flagcomms                     : 0.0027 over baseline\n",
      "sunmarsearthangle_deg         : 0.0026 over baseline\n",
      "EVTF_altitude                 : 0.0026 over baseline\n",
      "EVTF_event_counts_rolling_2h  : 0.0025 over baseline\n",
      "flagcomms_rolling_1h          : 0.0024 over baseline\n",
      "sx                            : 0.0023 over baseline\n",
      "occultationduration_min       : 0.0022 over baseline\n",
      "flagcomms_rolling_2h          : 0.0022 over baseline\n",
      "EVTF_IN_MAR_UMBRA             : 0.0020 over baseline\n",
      "DMOP_event_counts             : 0.0020 over baseline\n",
      "FTL_EARTH                     : 0.0020 over baseline\n",
      "sz                            : 0.0019 over baseline\n",
      "sunmars_km                    : 0.0019 over baseline\n",
      "solarconstantmars             : 0.0019 over baseline\n",
      "EVTF_IN_MAR_UMBRA_rolling_1h  : 0.0018 over baseline\n",
      "DMOP_event_counts_rolling_2h  : 0.0016 over baseline\n",
      "EVTF_event_counts_rolling_5h  : 0.0015 over baseline\n",
      "earthmars_km                  : 0.0015 over baseline\n",
      "FTL_SLEW_rolling_1h           : 0.0013 over baseline\n",
      "FTL_EARTH_rolling_1h          : 0.0013 over baseline\n",
      "FTL_SLEW_rolling_2h           : 0.0012 over baseline\n",
      "FTL_EARTH_rolling_2h          : 0.0012 over baseline\n",
      "FTL_WARMUP_rolling_1h         : 0.0009 over baseline\n",
      "EVTF_IN_MSL_/_RANGE_06000KM   : 0.0009 over baseline\n",
      "FTL_RADIO_SCIENCE_rolling_2h  : 0.0008 over baseline\n",
      "FTL_D4PNPO                    : 0.0008 over baseline\n",
      "FTL_RADIO_SCIENCE_rolling_1h  : 0.0008 over baseline\n",
      "FTL_RADIO_SCIENCE             : 0.0008 over baseline\n",
      "FTL_WARMUP_rolling_2h         : 0.0007 over baseline\n",
      "FTL_WARMUP                    : 0.0007 over baseline\n",
      "FTL_SLEW                      : 0.0007 over baseline\n",
      "EVTF_IN_MSL_/_RANGE_06000KM_rolling_1h: 0.0007 over baseline\n",
      "DMOP_event_counts_rolling_5h  : 0.0006 over baseline\n",
      "FTL_D4PNPO_rolling_1h         : 0.0006 over baseline\n",
      "FTL_D4PNPO_rolling_2h         : 0.0006 over baseline\n",
      "EVTF_IN_MRB_/_RANGE_06000KM   : 0.0005 over baseline\n",
      "FTL_NADIR_rolling_2h          : 0.0005 over baseline\n",
      "FTL_ACROSS_TRACK_rolling_2h   : 0.0004 over baseline\n",
      "EVTF_IN_MRB_/_RANGE_06000KM_rolling_1h: 0.0004 over baseline\n",
      "sy                            : 0.0003 over baseline\n",
      "FTL_NADIR_rolling_1h          : 0.0003 over baseline\n",
      "FTL_MAINTENANCE_rolling_2h    : 0.0003 over baseline\n",
      "FTL_ACROSS_TRACK_rolling_1h   : 0.0002 over baseline\n",
      "FTL_MAINTENANCE_rolling_1h    : 0.0002 over baseline\n",
      "FTL_INERTIAL_rolling_2h       : 0.0002 over baseline\n",
      "FTL_INERTIAL                  : 0.0002 over baseline\n",
      "FTL_INERTIAL_rolling_1h       : 0.0001 over baseline\n",
      "FTL_NADIR                     : 0.0001 over baseline\n",
      "FTL_MAINTENANCE               : 0.0001 over baseline\n",
      "FTL_ACROSS_TRACK              : 0.0001 over baseline\n"
     ]
    }
   ],
   "source": [
    "for feature, score in sorted(feature_scores.iteritems(), key=itemgetter(1)):\n",
    "    print \"{:30s}: {:.4f} over baseline\".format(feature, baseline_rms - score)"
   ]
  },
  {
   "cell_type": "code",
   "execution_count": 6,
   "metadata": {
    "collapsed": false
   },
   "outputs": [],
   "source": [
    "from collections import defaultdict\n",
    "\n",
    "derived_scores = defaultdict(dict)\n",
    "for f in X_train.columns:\n",
    "    derived_scores[f][\"log\"] = feature_scores[f] - score_feature(numpy.log(X_train[f] + 1), Y_train, splits)\n",
    "    derived_scores[f][\"sqrt\"] = feature_scores[f] - score_feature(numpy.sqrt(X_train[f]), Y_train, splits)\n",
    "    derived_scores[f][\"square\"] = feature_scores[f] - score_feature(numpy.square(X_train[f]), Y_train, splits)\n",
    "    derived_scores[f][\"tanh\"] = feature_scores[f] - score_feature(pandas.Series(numpy.tanh(X_train[f])), Y_train, splits)\n",
    "    derived_scores[f][\"gradient\"] = feature_scores[f] - score_feature(pandas.Series(numpy.gradient(X_train[f])), Y_train, splits)\n"
   ]
  },
  {
   "cell_type": "code",
   "execution_count": 7,
   "metadata": {
    "collapsed": false
   },
   "outputs": [
    {
     "name": "stdout",
     "output_type": "stream",
     "text": [
      "DMOP_event_counts\n",
      "\tlog       : 0.00049 over base. Relative to base feature vs baseline 25%\n",
      "\tsqrt      : 0.00048 over base. Relative to base feature vs baseline 24%\n",
      "DMOP_event_counts_rolling_2h\n",
      "\tlog       : 0.00034 over base. Relative to base feature vs baseline 22%\n",
      "\tsqrt      : 0.00029 over base. Relative to base feature vs baseline 18%\n",
      "DMOP_event_counts_rolling_5h\n",
      "\tgradient  : 0.00063 over base. Relative to base feature vs baseline 102%\n",
      "EVTF_IN_MAR_UMBRA\n",
      "EVTF_IN_MAR_UMBRA_rolling_1h\n",
      "\tsqrt      : 0.00026 over base. Relative to base feature vs baseline 14%\n",
      "EVTF_IN_MRB_/_RANGE_06000KM\n",
      "\tgradient  : 0.00062 over base. Relative to base feature vs baseline 123%\n",
      "EVTF_IN_MRB_/_RANGE_06000KM_rolling_1h\n",
      "\tgradient  : 0.00111 over base. Relative to base feature vs baseline 318%\n",
      "EVTF_IN_MSL_/_RANGE_06000KM\n",
      "EVTF_IN_MSL_/_RANGE_06000KM_rolling_1h\n",
      "EVTF_altitude\n",
      "EVTF_event_counts\n",
      "\tsquare    : 0.00039 over base. Relative to base feature vs baseline 11%\n",
      "EVTF_event_counts_rolling_2h\n",
      "\tsquare    : 0.00032 over base. Relative to base feature vs baseline 13%\n",
      "EVTF_event_counts_rolling_5h\n",
      "FTL_ACROSS_TRACK\n",
      "FTL_ACROSS_TRACK_rolling_1h\n",
      "FTL_ACROSS_TRACK_rolling_2h\n",
      "FTL_D4PNPO\n",
      "FTL_D4PNPO_rolling_1h\n",
      "\tgradient  : 0.00028 over base. Relative to base feature vs baseline 47%\n",
      "FTL_D4PNPO_rolling_2h\n",
      "FTL_EARTH\n",
      "FTL_EARTH_rolling_1h\n",
      "\tgradient  : 0.00072 over base. Relative to base feature vs baseline 56%\n",
      "FTL_EARTH_rolling_2h\n",
      "FTL_INERTIAL\n",
      "FTL_INERTIAL_rolling_1h\n",
      "FTL_INERTIAL_rolling_2h\n",
      "FTL_MAINTENANCE\n",
      "\tgradient  : 0.00021 over base. Relative to base feature vs baseline 193%\n",
      "FTL_MAINTENANCE_rolling_1h\n",
      "FTL_MAINTENANCE_rolling_2h\n",
      "FTL_NADIR\n",
      "\tgradient  : 0.00026 over base. Relative to base feature vs baseline 214%\n",
      "FTL_NADIR_rolling_1h\n",
      "FTL_NADIR_rolling_2h\n",
      "FTL_RADIO_SCIENCE\n",
      "FTL_RADIO_SCIENCE_rolling_1h\n",
      "FTL_RADIO_SCIENCE_rolling_2h\n",
      "FTL_SLEW\n",
      "FTL_SLEW_rolling_1h\n",
      "FTL_SLEW_rolling_2h\n",
      "FTL_WARMUP\n",
      "FTL_WARMUP_rolling_1h\n",
      "FTL_WARMUP_rolling_2h\n",
      "days_in_space\n",
      "earthmars_km\n",
      "eclipseduration_min\n",
      "\tlog       : 0.00039 over base. Relative to base feature vs baseline 7%\n",
      "\tsqrt      : 0.00038 over base. Relative to base feature vs baseline 7%\n",
      "eclipseduration_min_rolling_2d\n",
      "\tlog       : 0.00043 over base. Relative to base feature vs baseline 8%\n",
      "\tsqrt      : 0.00041 over base. Relative to base feature vs baseline 7%\n",
      "\ttanh      : 0.00020 over base. Relative to base feature vs baseline 4%\n",
      "eclipseduration_min_rolling_5d\n",
      "\tlog       : 0.00046 over base. Relative to base feature vs baseline 8%\n",
      "\tsqrt      : 0.00043 over base. Relative to base feature vs baseline 8%\n",
      "\ttanh      : 0.00021 over base. Relative to base feature vs baseline 4%\n",
      "flagcomms\n",
      "flagcomms_rolling_1h\n",
      "flagcomms_rolling_2h\n",
      "occultationduration_min\n",
      "\tlog       : 0.00056 over base. Relative to base feature vs baseline 25%\n",
      "\tsqrt      : 0.00050 over base. Relative to base feature vs baseline 22%\n",
      "\ttanh      : 0.00022 over base. Relative to base feature vs baseline 10%\n",
      "sa\n",
      "\tlog       : 0.00046 over base. Relative to base feature vs baseline 16%\n",
      "\tsqrt      : 0.00044 over base. Relative to base feature vs baseline 16%\n",
      "solarconstantmars\n",
      "sunmars_km\n",
      "sunmarsearthangle_deg\n",
      "\tlog       : 0.00045 over base. Relative to base feature vs baseline 17%\n",
      "\tsqrt      : 0.00030 over base. Relative to base feature vs baseline 12%\n",
      "sx\n",
      "sy\n",
      "sz\n"
     ]
    }
   ],
   "source": [
    "for base_feature in sorted(derived_scores.iterkeys()):\n",
    "    print base_feature\n",
    "    for transform, score in sorted(derived_scores[base_feature].iteritems(), key=itemgetter(1), reverse=True):\n",
    "        if score > 0.0002:\n",
    "            rel_improvement = score / (baseline_rms - feature_scores[base_feature])\n",
    "            print \"\\t{:10s}: {:.5f} over base. Relative to base feature vs baseline {:.0f}%\".format(transform, \n",
    "                                                                  score, \n",
    "                                                                  100 * rel_improvement)"
   ]
  }
 ],
 "metadata": {
  "kernelspec": {
   "display_name": "Python 2",
   "language": "python",
   "name": "python2"
  },
  "language_info": {
   "codemirror_mode": {
    "name": "ipython",
    "version": 2
   },
   "file_extension": ".py",
   "mimetype": "text/x-python",
   "name": "python",
   "nbconvert_exporter": "python",
   "pygments_lexer": "ipython2",
   "version": "2.7.10"
  }
 },
 "nbformat": 4,
 "nbformat_minor": 0
}
